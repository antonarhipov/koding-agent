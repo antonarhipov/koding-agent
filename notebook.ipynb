{
 "cells": [
  {
   "metadata": {
    "ExecuteTime": {
     "end_time": "2025-09-18T23:42:40.230740Z",
     "start_time": "2025-09-18T23:42:40.099694Z"
    }
   },
   "cell_type": "code",
   "source": [
    "import org.example.demo.gptoss\n",
    "\n",
    "val (executor,model) = gptoss()\n"
   ],
   "outputs": [],
   "execution_count": 10
  },
  {
   "metadata": {
    "ExecuteTime": {
     "end_time": "2025-09-18T23:41:24.729989Z",
     "start_time": "2025-09-18T23:41:24.676628Z"
    }
   },
   "cell_type": "code",
   "source": [
    "import org.example.kagent.createCodingAgentStrategy\n",
    "\n",
    "val strategy = createCodingAgentStrategy()"
   ],
   "outputs": [],
   "execution_count": 8
  },
  {
   "metadata": {
    "ExecuteTime": {
     "end_time": "2025-09-18T23:42:42.020592Z",
     "start_time": "2025-09-18T23:42:41.949420Z"
    }
   },
   "cell_type": "code",
   "source": [
    "import ai.koog.agents.core.agent.config.AIAgentConfig\n",
    "import ai.koog.prompt.dsl.Prompt\n",
    "\n",
    "val agentConfig = AIAgentConfig(\n",
    "    prompt = Prompt.build(\"coding-assistant\") {\n",
    "        system(\n",
    "            \"\"\"\n",
    "                You are an expert Kotlin coding assistant that can help users with:\n",
    "\n",
    "                1. **Code Generation**: Create Kotlin code based on requirements\n",
    "                2. **Test Creation**: Write comprehensive unit tests\n",
    "                3. **Code Compilation**: Compile Kotlin code and handle errors\n",
    "                4. **Test Execution**: Run tests and report results\n",
    "                5. **Project Setup**: Create proper project structures\n",
    "\n",
    "                ## Workflow:\n",
    "\n",
    "                1. Understand the user's requirements\n",
    "                2. Create appropriate project structure if needed\n",
    "                3. Generate the main code file\n",
    "                4. Create comprehensive tests\n",
    "                5. Compile both main code and tests\n",
    "                6. Run tests and report results\n",
    "                7. Fix any compilation or test failures\n",
    "\n",
    "                ## Best Practices:\n",
    "\n",
    "                - Write clean, idiomatic Kotlin code\n",
    "                - Include proper error handling\n",
    "                - Create meaningful test cases\n",
    "                - Follow Kotlin naming conventions\n",
    "                - Add appropriate documentation\n",
    "\n",
    "                ***IMPORTANT*** ALWAYS USE TOOLS TO IMPLEMENT THE TASK!!!\n",
    "                ***IMPORTANT*** DON'T CHAT WITH ME BEFORE YOU FINISH\n",
    "\n",
    "                Always explain what you're doing at each step and provide clear feedback about success or failure.\n",
    "                \"\"\".trimIndent()\n",
    "        )\n",
    "    },\n",
    "    model = model,\n",
    "    maxAgentIterations = 25\n",
    ")"
   ],
   "outputs": [],
   "execution_count": 11
  },
  {
   "metadata": {
    "ExecuteTime": {
     "end_time": "2025-09-18T23:44:07.116592Z",
     "start_time": "2025-09-18T23:44:07.074274Z"
    }
   },
   "cell_type": "code",
   "source": [
    "import ai.koog.agents.core.agent.AIAgent\n",
    "import ai.koog.agents.features.eventHandler.feature.EventHandler\n",
    "import kotlin.uuid.ExperimentalUuidApi\n",
    "\n",
    "@OptIn(ExperimentalUuidApi::class)\n",
    "val agent = AIAgent(\n",
    "    promptExecutor = executor,\n",
    "    strategy = strategy,\n",
    "    agentConfig = agentConfig\n",
    ")"
   ],
   "outputs": [],
   "execution_count": 18
  },
  {
   "metadata": {
    "ExecuteTime": {
     "end_time": "2025-09-18T23:44:16.677364Z",
     "start_time": "2025-09-18T23:44:08.921754Z"
    }
   },
   "cell_type": "code",
   "source": [
    "import kotlinx.coroutines.runBlocking\n",
    "\n",
    "runBlocking {\n",
    "    agent.run(\"write a simple fizzbuzz program in javascript\")\n",
    "}"
   ],
   "outputs": [
    {
     "data": {
      "text/plain": [
       "Here’s a minimal “FizzBuzz” implementation in JavaScript that prints the numbers from 1 to 100, replacing multiples of 3 with **“Fizz”**, multiples of 5 with **“Buzz”**, and multiples of both with **“FizzBuzz”**.\n",
       "\n",
       "```javascript\n",
       "// fizzbuzz.js\n",
       "function fizzBuzz(limit = 100) {\n",
       "  for (let i = 1; i <= limit; i++) {\n",
       "    let output = '';\n",
       "    if (i % 3 === 0) output += 'Fizz';\n",
       "    if (i % 5 === 0) output += 'Buzz';\n",
       "    console.log(output || i);\n",
       "  }\n",
       "}\n",
       "\n",
       "// Run the function\n",
       "fizzBuzz();\n",
       "```\n",
       "\n",
       "**How to run**\n",
       "\n",
       "1. Save the code in a file named `fizzbuzz.js`.\n",
       "2. Open a terminal/command prompt.\n",
       "3. Execute `node fizzbuzz.js`.\n",
       "\n",
       "You’ll see the classic FizzBuzz output in your console."
      ]
     },
     "execution_count": 19,
     "metadata": {},
     "output_type": "execute_result"
    }
   ],
   "execution_count": 19
  },
  {
   "metadata": {
    "ExecuteTime": {
     "end_time": "2025-09-18T23:43:54.074497Z",
     "start_time": "2025-09-18T23:43:54.072403Z"
    }
   },
   "cell_type": "code",
   "source": "",
   "outputs": [],
   "execution_count": null
  },
  {
   "metadata": {},
   "cell_type": "code",
   "outputs": [],
   "execution_count": null,
   "source": ""
  }
 ],
 "metadata": {
  "kernelspec": {
   "display_name": "Kotlin",
   "language": "kotlin",
   "name": "kotlin"
  },
  "language_info": {
   "name": "kotlin",
   "version": "1.9.23",
   "mimetype": "text/x-kotlin",
   "file_extension": ".kt",
   "pygments_lexer": "kotlin",
   "codemirror_mode": "text/x-kotlin",
   "nbconvert_exporter": ""
  },
  "ktnbPluginMetadata": {
   "projectDependencies": [
    "kagent.main"
   ],
   "projectLibraries": false
  }
 },
 "nbformat": 4,
 "nbformat_minor": 0
}
