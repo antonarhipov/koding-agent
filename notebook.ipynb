{
 "cells": [
  {
   "metadata": {
    "ExecuteTime": {
     "end_time": "2025-06-11T07:47:16.815048Z",
     "start_time": "2025-06-11T07:47:16.362648Z"
    }
   },
   "cell_type": "code",
   "source": [
    "import ai.koog.prompt.executor.llms.all.simpleOllamaAIExecutor\n",
    "import ai.koog.prompt.llm.LLMCapability\n",
    "import ai.koog.prompt.llm.LLMProvider\n",
    "import ai.koog.prompt.llm.LLModel\n",
    "\n",
    "val executor = simpleOllamaAIExecutor()\n",
    "val model = LLModel(\n",
    "    provider = LLMProvider.Ollama,\n",
    "    id = \"mistral:latest\",\n",
    "    capabilities = listOf(\n",
    "        LLMCapability.Temperature,\n",
    "        LLMCapability.Schema.JSON.Simple,\n",
    "        LLMCapability.Tools\n",
    "    )\n",
    ")\n"
   ],
   "outputs": [],
   "execution_count": 2
  },
  {
   "metadata": {
    "ExecuteTime": {
     "end_time": "2025-06-11T07:47:44.606883Z",
     "start_time": "2025-06-11T07:47:44.427206Z"
    }
   },
   "cell_type": "code",
   "source": [
    "import org.example.kagent.createCodingAgentStrategy\n",
    "\n",
    "val strategy = createCodingAgentStrategy()"
   ],
   "outputs": [],
   "execution_count": 3
  },
  {
   "metadata": {
    "ExecuteTime": {
     "end_time": "2025-06-11T07:49:48.467999Z",
     "start_time": "2025-06-11T07:49:48.074368Z"
    }
   },
   "cell_type": "code",
   "source": [
    "import ai.koog.agents.core.agent.config.AIAgentConfig\n",
    "import ai.koog.prompt.dsl.Prompt\n",
    "\n",
    "val agentConfig = AIAgentConfig(\n",
    "    prompt = Prompt.build(\"coding-assistant\") {\n",
    "        system(\n",
    "            \"\"\"\n",
    "                You are an expert Kotlin coding assistant that can help users with:\n",
    "\n",
    "                1. **Code Generation**: Create Kotlin code based on requirements\n",
    "                2. **Test Creation**: Write comprehensive unit tests\n",
    "                3. **Code Compilation**: Compile Kotlin code and handle errors\n",
    "                4. **Test Execution**: Run tests and report results\n",
    "                5. **Project Setup**: Create proper project structures\n",
    "\n",
    "                ## Workflow:\n",
    "\n",
    "                1. Understand the user's requirements\n",
    "                2. Create appropriate project structure if needed\n",
    "                3. Generate the main code file\n",
    "                4. Create comprehensive tests\n",
    "                5. Compile both main code and tests\n",
    "                6. Run tests and report results\n",
    "                7. Fix any compilation or test failures\n",
    "\n",
    "                ## Best Practices:\n",
    "\n",
    "                - Write clean, idiomatic Kotlin code\n",
    "                - Include proper error handling\n",
    "                - Create meaningful test cases\n",
    "                - Follow Kotlin naming conventions\n",
    "                - Add appropriate documentation\n",
    "\n",
    "                ***IMPORTANT*** ALWAYS USE TOOLS TO IMPLEMENT THE TASK!!!\n",
    "                ***IMPORTANT*** DON'T CHAT WITH ME BEFORE YOU FINISH\n",
    "\n",
    "                Always explain what you're doing at each step and provide clear feedback about success or failure.\n",
    "                \"\"\".trimIndent()\n",
    "        )\n",
    "    },\n",
    "    model = model,\n",
    "    maxAgentIterations = 25\n",
    ")"
   ],
   "outputs": [],
   "execution_count": 5
  },
  {
   "metadata": {
    "ExecuteTime": {
     "end_time": "2025-06-11T07:53:07.310004Z",
     "start_time": "2025-06-11T07:53:07.142102Z"
    }
   },
   "cell_type": "code",
   "source": [
    "import ai.koog.agents.core.agent.AIAgent\n",
    "import ai.koog.agents.features.eventHandler.feature.EventHandler\n",
    "import kotlin.uuid.ExperimentalUuidApi\n",
    "\n",
    "@OptIn(ExperimentalUuidApi::class)\n",
    "val agent = AIAgent(\n",
    "    promptExecutor = executor,\n",
    "    strategy = strategy,\n",
    "    agentConfig = agentConfig,\n",
    "    installFeatures = {\n",
    "        install(EventHandler) {\n",
    "            onBeforeAgentStarted { strategy, _ ->\n",
    "                println(\"🚀 Starting coding session with strategy: ${strategy.name}\")\n",
    "            }\n",
    "            onAgentFinished { strategyName, result ->\n",
    "                println(\"✅ Coding session completed: $strategyName\")\n",
    "                println(\"📋 Final result: $result\")\n",
    "            }\n",
    "            onAgentRunError { strategyName, uuid, exception\n",
    "                -> println(\"🚨 Error occurred for strategy: $strategyName [$uuid]: $exception\")\n",
    "            }\n",
    "        }\n",
    "    }\n",
    ")"
   ],
   "outputs": [
    {
     "ename": "org.jetbrains.kotlinx.jupyter.exceptions.ReplCompilerException",
     "evalue": "at Cell In[11], line 3, column 20: This declaration is only available since Kotlin 2.0 and cannot be used with the specified API version 1.9\nat Cell In[11], line 5, column 8: This declaration is only available since Kotlin 2.0 and cannot be used with the specified API version 1.9",
     "output_type": "error",
     "traceback": [
      "org.jetbrains.kotlinx.jupyter.exceptions.ReplCompilerException: at Cell In[11], line 3, column 20: This declaration is only available since Kotlin 2.0 and cannot be used with the specified API version 1.9",
      "at Cell In[11], line 5, column 8: This declaration is only available since Kotlin 2.0 and cannot be used with the specified API version 1.9",
      "\tat org.jetbrains.kotlinx.jupyter.repl.impl.JupyterCompilerImpl.compileSync(JupyterCompilerImpl.kt:208)",
      "\tat org.jetbrains.kotlinx.jupyter.repl.impl.InternalEvaluatorImpl.eval(InternalEvaluatorImpl.kt:126)",
      "\tat org.jetbrains.kotlinx.jupyter.repl.impl.CellExecutorImpl$execute$1$result$1.invoke(CellExecutorImpl.kt:80)",
      "\tat org.jetbrains.kotlinx.jupyter.repl.impl.CellExecutorImpl$execute$1$result$1.invoke(CellExecutorImpl.kt:78)",
      "\tat org.jetbrains.kotlinx.jupyter.repl.impl.ReplForJupyterImpl.withHost(ReplForJupyterImpl.kt:791)",
      "\tat org.jetbrains.kotlinx.jupyter.repl.impl.CellExecutorImpl.execute-L4Nmkdk(CellExecutorImpl.kt:78)",
      "\tat org.jetbrains.kotlinx.jupyter.repl.execution.CellExecutor$DefaultImpls.execute-L4Nmkdk$default(CellExecutor.kt:13)",
      "\tat org.jetbrains.kotlinx.jupyter.repl.impl.ReplForJupyterImpl.evaluateUserCode-wNURfNM(ReplForJupyterImpl.kt:613)",
      "\tat org.jetbrains.kotlinx.jupyter.repl.impl.ReplForJupyterImpl.evalExImpl(ReplForJupyterImpl.kt:471)",
      "\tat org.jetbrains.kotlinx.jupyter.repl.impl.ReplForJupyterImpl.access$evalExImpl(ReplForJupyterImpl.kt:143)",
      "\tat org.jetbrains.kotlinx.jupyter.repl.impl.ReplForJupyterImpl$evalEx$1.invoke(ReplForJupyterImpl.kt:464)",
      "\tat org.jetbrains.kotlinx.jupyter.repl.impl.ReplForJupyterImpl$evalEx$1.invoke(ReplForJupyterImpl.kt:463)",
      "\tat org.jetbrains.kotlinx.jupyter.repl.impl.ReplForJupyterImpl.withEvalContext(ReplForJupyterImpl.kt:444)",
      "\tat org.jetbrains.kotlinx.jupyter.repl.impl.ReplForJupyterImpl.evalEx(ReplForJupyterImpl.kt:463)",
      "\tat org.jetbrains.kotlinx.jupyter.messaging.IdeCompatibleMessageRequestProcessor$processExecuteRequest$1$response$1$1.invoke(IdeCompatibleMessageRequestProcessor.kt:159)",
      "\tat org.jetbrains.kotlinx.jupyter.messaging.IdeCompatibleMessageRequestProcessor$processExecuteRequest$1$response$1$1.invoke(IdeCompatibleMessageRequestProcessor.kt:158)",
      "\tat org.jetbrains.kotlinx.jupyter.streams.BlockingSubstitutionEngine.withDataSubstitution(SubstitutionEngine.kt:70)",
      "\tat org.jetbrains.kotlinx.jupyter.streams.StreamSubstitutionManager.withSubstitutedStreams(StreamSubstitutionManager.kt:118)",
      "\tat org.jetbrains.kotlinx.jupyter.messaging.IdeCompatibleMessageRequestProcessor.withForkedIn(IdeCompatibleMessageRequestProcessor.kt:335)",
      "\tat org.jetbrains.kotlinx.jupyter.messaging.IdeCompatibleMessageRequestProcessor.access$withForkedIn(IdeCompatibleMessageRequestProcessor.kt:54)",
      "\tat org.jetbrains.kotlinx.jupyter.messaging.IdeCompatibleMessageRequestProcessor$evalWithIO$1$1.invoke(IdeCompatibleMessageRequestProcessor.kt:349)",
      "\tat org.jetbrains.kotlinx.jupyter.streams.BlockingSubstitutionEngine.withDataSubstitution(SubstitutionEngine.kt:70)",
      "\tat org.jetbrains.kotlinx.jupyter.streams.StreamSubstitutionManager.withSubstitutedStreams(StreamSubstitutionManager.kt:118)",
      "\tat org.jetbrains.kotlinx.jupyter.messaging.IdeCompatibleMessageRequestProcessor.withForkedErr(IdeCompatibleMessageRequestProcessor.kt:324)",
      "\tat org.jetbrains.kotlinx.jupyter.messaging.IdeCompatibleMessageRequestProcessor.access$withForkedErr(IdeCompatibleMessageRequestProcessor.kt:54)",
      "\tat org.jetbrains.kotlinx.jupyter.messaging.IdeCompatibleMessageRequestProcessor$evalWithIO$1.invoke(IdeCompatibleMessageRequestProcessor.kt:348)",
      "\tat org.jetbrains.kotlinx.jupyter.streams.BlockingSubstitutionEngine.withDataSubstitution(SubstitutionEngine.kt:70)",
      "\tat org.jetbrains.kotlinx.jupyter.streams.StreamSubstitutionManager.withSubstitutedStreams(StreamSubstitutionManager.kt:118)",
      "\tat org.jetbrains.kotlinx.jupyter.messaging.IdeCompatibleMessageRequestProcessor.withForkedOut(IdeCompatibleMessageRequestProcessor.kt:316)",
      "\tat org.jetbrains.kotlinx.jupyter.messaging.IdeCompatibleMessageRequestProcessor.evalWithIO(IdeCompatibleMessageRequestProcessor.kt:347)",
      "\tat org.jetbrains.kotlinx.jupyter.messaging.IdeCompatibleMessageRequestProcessor$processExecuteRequest$1$response$1.invoke(IdeCompatibleMessageRequestProcessor.kt:158)",
      "\tat org.jetbrains.kotlinx.jupyter.messaging.IdeCompatibleMessageRequestProcessor$processExecuteRequest$1$response$1.invoke(IdeCompatibleMessageRequestProcessor.kt:157)",
      "\tat org.jetbrains.kotlinx.jupyter.execution.JupyterExecutorImpl$Task.execute(JupyterExecutorImpl.kt:41)",
      "\tat org.jetbrains.kotlinx.jupyter.execution.JupyterExecutorImpl$executorThread$1.invoke(JupyterExecutorImpl.kt:83)",
      "\tat org.jetbrains.kotlinx.jupyter.execution.JupyterExecutorImpl$executorThread$1.invoke(JupyterExecutorImpl.kt:80)",
      "\tat kotlin.concurrent.ThreadsKt$thread$thread$1.run(Thread.kt:30)",
      ""
     ]
    }
   ],
   "execution_count": 11
  },
  {
   "metadata": {
    "ExecuteTime": {
     "end_time": "2025-06-11T07:53:02.257243Z",
     "start_time": "2025-06-11T07:52:43.943583Z"
    }
   },
   "cell_type": "code",
   "source": [
    "import kotlinx.coroutines.runBlocking\n",
    "\n",
    "runBlocking {\n",
    "    agent.run(\"write a simple fizzbuzz program\")\n",
    "}"
   ],
   "outputs": [],
   "execution_count": 9
  },
  {
   "metadata": {},
   "cell_type": "code",
   "outputs": [],
   "execution_count": null,
   "source": ""
  }
 ],
 "metadata": {
  "kernelspec": {
   "display_name": "Kotlin",
   "language": "kotlin",
   "name": "kotlin"
  },
  "language_info": {
   "name": "kotlin",
   "version": "1.9.23",
   "mimetype": "text/x-kotlin",
   "file_extension": ".kt",
   "pygments_lexer": "kotlin",
   "codemirror_mode": "text/x-kotlin",
   "nbconvert_exporter": ""
  },
  "ktnbPluginMetadata": {
   "projectDependencies": [
    "kagent.main"
   ],
   "projectLibraries": false
  }
 },
 "nbformat": 4,
 "nbformat_minor": 0
}
